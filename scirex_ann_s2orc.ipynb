{
  "nbformat": 4,
  "nbformat_minor": 0,
  "metadata": {
    "colab": {
      "provenance": [],
      "mount_file_id": "1uuP76H62MV_FQw0410IaUmuolDd5bE9v",
      "authorship_tag": "ABX9TyNandJQ7E8ptrcdLWjby30L",
      "include_colab_link": true
    },
    "kernelspec": {
      "name": "python3",
      "display_name": "Python 3"
    },
    "language_info": {
      "name": "python"
    }
  },
  "cells": [
    {
      "cell_type": "markdown",
      "metadata": {
        "id": "view-in-github",
        "colab_type": "text"
      },
      "source": [
        "<a href=\"https://colab.research.google.com/github/agnxsh/scirex-annotation-for-s2orc/blob/main/scirex_ann_s2orc.ipynb\" target=\"_parent\"><img src=\"https://colab.research.google.com/assets/colab-badge.svg\" alt=\"Open In Colab\"/></a>"
      ]
    },
    {
      "cell_type": "code",
      "execution_count": 6,
      "metadata": {
        "colab": {
          "base_uri": "https://localhost:8080/",
          "height": 433
        },
        "id": "zydtb6UxWgrj",
        "outputId": "9c0db672-2439-4bf2-f986-588bdc79c939"
      },
      "outputs": [
        {
          "output_type": "error",
          "ename": "KeyboardInterrupt",
          "evalue": "ignored",
          "traceback": [
            "\u001b[0;31m---------------------------------------------------------------------------\u001b[0m",
            "\u001b[0;31mKeyboardInterrupt\u001b[0m                         Traceback (most recent call last)",
            "\u001b[0;32m<ipython-input-6-2795a210ef9e>\u001b[0m in \u001b[0;36m<module>\u001b[0;34m\u001b[0m\n\u001b[1;32m      3\u001b[0m \u001b[0;32mwith\u001b[0m \u001b[0mopen\u001b[0m\u001b[0;34m(\u001b[0m\u001b[0;34m\"/content/drive/MyDrive/s2orc_pdf_parses/pdf_parses_72.jsonl\"\u001b[0m\u001b[0;34m,\u001b[0m \u001b[0;34m\"r\"\u001b[0m\u001b[0;34m)\u001b[0m \u001b[0;32mas\u001b[0m \u001b[0mpdf_p\u001b[0m\u001b[0;34m:\u001b[0m\u001b[0;34m\u001b[0m\u001b[0;34m\u001b[0m\u001b[0m\n\u001b[1;32m      4\u001b[0m   \u001b[0;32mfor\u001b[0m \u001b[0mline\u001b[0m \u001b[0;32min\u001b[0m \u001b[0mpdf_p\u001b[0m\u001b[0;34m:\u001b[0m\u001b[0;34m\u001b[0m\u001b[0;34m\u001b[0m\u001b[0m\n\u001b[0;32m----> 5\u001b[0;31m     \u001b[0mpdf_dict\u001b[0m \u001b[0;34m=\u001b[0m \u001b[0mjson\u001b[0m\u001b[0;34m.\u001b[0m\u001b[0mloads\u001b[0m\u001b[0;34m(\u001b[0m\u001b[0mline\u001b[0m\u001b[0;34m)\u001b[0m\u001b[0;34m\u001b[0m\u001b[0;34m\u001b[0m\u001b[0m\n\u001b[0m\u001b[1;32m      6\u001b[0m     \u001b[0mpdf_list\u001b[0m\u001b[0;34m.\u001b[0m\u001b[0mappend\u001b[0m\u001b[0;34m(\u001b[0m\u001b[0mpdf_dict\u001b[0m\u001b[0;34m)\u001b[0m\u001b[0;34m\u001b[0m\u001b[0;34m\u001b[0m\u001b[0m\n\u001b[1;32m      7\u001b[0m \u001b[0;34m\u001b[0m\u001b[0m\n",
            "\u001b[0;32m/usr/lib/python3.8/json/__init__.py\u001b[0m in \u001b[0;36mloads\u001b[0;34m(s, cls, object_hook, parse_float, parse_int, parse_constant, object_pairs_hook, **kw)\u001b[0m\n\u001b[1;32m    355\u001b[0m             \u001b[0mparse_int\u001b[0m \u001b[0;32mis\u001b[0m \u001b[0;32mNone\u001b[0m \u001b[0;32mand\u001b[0m \u001b[0mparse_float\u001b[0m \u001b[0;32mis\u001b[0m \u001b[0;32mNone\u001b[0m \u001b[0;32mand\u001b[0m\u001b[0;34m\u001b[0m\u001b[0;34m\u001b[0m\u001b[0m\n\u001b[1;32m    356\u001b[0m             parse_constant is None and object_pairs_hook is None and not kw):\n\u001b[0;32m--> 357\u001b[0;31m         \u001b[0;32mreturn\u001b[0m \u001b[0m_default_decoder\u001b[0m\u001b[0;34m.\u001b[0m\u001b[0mdecode\u001b[0m\u001b[0;34m(\u001b[0m\u001b[0ms\u001b[0m\u001b[0;34m)\u001b[0m\u001b[0;34m\u001b[0m\u001b[0;34m\u001b[0m\u001b[0m\n\u001b[0m\u001b[1;32m    358\u001b[0m     \u001b[0;32mif\u001b[0m \u001b[0mcls\u001b[0m \u001b[0;32mis\u001b[0m \u001b[0;32mNone\u001b[0m\u001b[0;34m:\u001b[0m\u001b[0;34m\u001b[0m\u001b[0;34m\u001b[0m\u001b[0m\n\u001b[1;32m    359\u001b[0m         \u001b[0mcls\u001b[0m \u001b[0;34m=\u001b[0m \u001b[0mJSONDecoder\u001b[0m\u001b[0;34m\u001b[0m\u001b[0;34m\u001b[0m\u001b[0m\n",
            "\u001b[0;32m/usr/lib/python3.8/json/decoder.py\u001b[0m in \u001b[0;36mdecode\u001b[0;34m(self, s, _w)\u001b[0m\n\u001b[1;32m    335\u001b[0m \u001b[0;34m\u001b[0m\u001b[0m\n\u001b[1;32m    336\u001b[0m         \"\"\"\n\u001b[0;32m--> 337\u001b[0;31m         \u001b[0mobj\u001b[0m\u001b[0;34m,\u001b[0m \u001b[0mend\u001b[0m \u001b[0;34m=\u001b[0m \u001b[0mself\u001b[0m\u001b[0;34m.\u001b[0m\u001b[0mraw_decode\u001b[0m\u001b[0;34m(\u001b[0m\u001b[0ms\u001b[0m\u001b[0;34m,\u001b[0m \u001b[0midx\u001b[0m\u001b[0;34m=\u001b[0m\u001b[0m_w\u001b[0m\u001b[0;34m(\u001b[0m\u001b[0ms\u001b[0m\u001b[0;34m,\u001b[0m \u001b[0;36m0\u001b[0m\u001b[0;34m)\u001b[0m\u001b[0;34m.\u001b[0m\u001b[0mend\u001b[0m\u001b[0;34m(\u001b[0m\u001b[0;34m)\u001b[0m\u001b[0;34m)\u001b[0m\u001b[0;34m\u001b[0m\u001b[0;34m\u001b[0m\u001b[0m\n\u001b[0m\u001b[1;32m    338\u001b[0m         \u001b[0mend\u001b[0m \u001b[0;34m=\u001b[0m \u001b[0m_w\u001b[0m\u001b[0;34m(\u001b[0m\u001b[0ms\u001b[0m\u001b[0;34m,\u001b[0m \u001b[0mend\u001b[0m\u001b[0;34m)\u001b[0m\u001b[0;34m.\u001b[0m\u001b[0mend\u001b[0m\u001b[0;34m(\u001b[0m\u001b[0;34m)\u001b[0m\u001b[0;34m\u001b[0m\u001b[0;34m\u001b[0m\u001b[0m\n\u001b[1;32m    339\u001b[0m         \u001b[0;32mif\u001b[0m \u001b[0mend\u001b[0m \u001b[0;34m!=\u001b[0m \u001b[0mlen\u001b[0m\u001b[0;34m(\u001b[0m\u001b[0ms\u001b[0m\u001b[0;34m)\u001b[0m\u001b[0;34m:\u001b[0m\u001b[0;34m\u001b[0m\u001b[0;34m\u001b[0m\u001b[0m\n",
            "\u001b[0;32m/usr/lib/python3.8/json/decoder.py\u001b[0m in \u001b[0;36mraw_decode\u001b[0;34m(self, s, idx)\u001b[0m\n\u001b[1;32m    351\u001b[0m         \"\"\"\n\u001b[1;32m    352\u001b[0m         \u001b[0;32mtry\u001b[0m\u001b[0;34m:\u001b[0m\u001b[0;34m\u001b[0m\u001b[0;34m\u001b[0m\u001b[0m\n\u001b[0;32m--> 353\u001b[0;31m             \u001b[0mobj\u001b[0m\u001b[0;34m,\u001b[0m \u001b[0mend\u001b[0m \u001b[0;34m=\u001b[0m \u001b[0mself\u001b[0m\u001b[0;34m.\u001b[0m\u001b[0mscan_once\u001b[0m\u001b[0;34m(\u001b[0m\u001b[0ms\u001b[0m\u001b[0;34m,\u001b[0m \u001b[0midx\u001b[0m\u001b[0;34m)\u001b[0m\u001b[0;34m\u001b[0m\u001b[0;34m\u001b[0m\u001b[0m\n\u001b[0m\u001b[1;32m    354\u001b[0m         \u001b[0;32mexcept\u001b[0m \u001b[0mStopIteration\u001b[0m \u001b[0;32mas\u001b[0m \u001b[0merr\u001b[0m\u001b[0;34m:\u001b[0m\u001b[0;34m\u001b[0m\u001b[0;34m\u001b[0m\u001b[0m\n\u001b[1;32m    355\u001b[0m             \u001b[0;32mraise\u001b[0m \u001b[0mJSONDecodeError\u001b[0m\u001b[0;34m(\u001b[0m\u001b[0;34m\"Expecting value\"\u001b[0m\u001b[0;34m,\u001b[0m \u001b[0ms\u001b[0m\u001b[0;34m,\u001b[0m \u001b[0merr\u001b[0m\u001b[0;34m.\u001b[0m\u001b[0mvalue\u001b[0m\u001b[0;34m)\u001b[0m \u001b[0;32mfrom\u001b[0m \u001b[0;32mNone\u001b[0m\u001b[0;34m\u001b[0m\u001b[0;34m\u001b[0m\u001b[0m\n",
            "\u001b[0;31mKeyboardInterrupt\u001b[0m: "
          ]
        }
      ],
      "source": [
        "import json\n",
        "pdf_list=[]\n",
        "with open(\"/content/drive/MyDrive/s2orc_pdf_parses/pdf_parses_72.jsonl\", \"r\") as pdf_p:\n",
        "  for line in pdf_p:\n",
        "    pdf_dict = json.loads(line)\n",
        "    pdf_list.append(pdf_dict)\n",
        "    "
      ]
    },
    {
      "cell_type": "code",
      "source": [
        "len(pdf_list)"
      ],
      "metadata": {
        "colab": {
          "base_uri": "https://localhost:8080/"
        },
        "id": "wgpPrv_hXE4j",
        "outputId": "929a3cc8-a95b-4973-92ca-1eb2983e2728"
      },
      "execution_count": 7,
      "outputs": [
        {
          "output_type": "execute_result",
          "data": {
            "text/plain": [
              "43534"
            ]
          },
          "metadata": {},
          "execution_count": 7
        }
      ]
    },
    {
      "cell_type": "code",
      "source": [
        "pdf_list[334:335]"
      ],
      "metadata": {
        "colab": {
          "base_uri": "https://localhost:8080/"
        },
        "id": "KCogkmRwXHGZ",
        "outputId": "859684e3-a3a3-4147-9c6d-0d2d5033e41e"
      },
      "execution_count": 9,
      "outputs": [
        {
          "output_type": "execute_result",
          "data": {
            "text/plain": [
              "[{'paper_id': '8335531',\n",
              "  '_pdf_hash': '2ba4c2a8e023b2761294ff4e1dc84fd3b9f90549',\n",
              "  'abstract': [{'section': 'Abstract',\n",
              "    'text': 'SUMMARY Today, healthcare organizations are faced with the growing realization that functional and professional silos within the organization are counter to the provision of efficient and effective patient care and are fertile grounds for errors or sentinel events to occur. The improvement of patient care and prevention of errors require that collaboration among professionals occur at the patient care delivery level, not just within the leadership team.',\n",
              "    'cite_spans': [],\n",
              "    'ref_spans': []},\n",
              "   {'section': 'Abstract',\n",
              "    'text': \"A new nursing role-the clinical nurse leader, the first new nursing role advanced nationally in more than three decades-currently is under development in more than 180 pilot healthcare delivery sites across the United States and Puerto Rico. The clinical nurse leader is a master's-prepared nurse who assumes accountability for healthcare outcomes for a specific group of clients within a unit or setting through the assimilation and application of research-based information to design, implement, and evaluate client plans of care. The clinical nurse leader serves as a lateral integrator for the healthcare team and facilitates, coordinates, and oversees the care provided by the healthcare team. Healthcare administrators should seize the opportunity to work with nurses in healthcare delivery organizations to influence the early evolution and diffusion of this new role.\",\n",
              "    'cite_spans': [],\n",
              "    'ref_spans': []}],\n",
              "  'body_text': [{'section': '',\n",
              "    'text': 'T he 2000 Institute of Medicine report To Err Is Human, citing evidence of 44,000 to 98,000 annual deaths in hospitals as a result of medical errors, was a wake-up call to healthcare leaders (Kohn, Corrigan, and Donaldson 2003) . Studies have repeatedly demonstrated that medical errors made in organizations have little to do with the competence of staff but rather with the cumbersome and complex systems that have evolved over the years (Leape and Berwick 2005; Spear 2005) . The systems in which our healthcare workers work are fragmented, complex, specialized, and siloed, creating gaps in communication, numerous handoffs, and more discipline-centered than patient-centered care. In addition, patient stays in institutions have been compressed so that more services are offered in a shorter amount of time. Community hospital average length of stay has steadily shifted downward from 7.6 days in 1980 to 5.7 days in 2003 (American Hospital Association 2005) . All ofthis creates fertile ground for errors to occur.',\n",
              "    'cite_spans': [{'start': 440,\n",
              "      'end': 464,\n",
              "      'text': '(Leape and Berwick 2005;',\n",
              "      'ref_id': 'BIBREF10'},\n",
              "     {'start': 465, 'end': 476, 'text': 'Spear 2005)', 'ref_id': 'BIBREF11'}],\n",
              "    'ref_spans': []},\n",
              "   {'section': '',\n",
              "    'text': \"One way to address the fragmentation of complex care and its compression into shorter time periods is to assign integration responsibilities to existing or new work roles. Within hospitals, case managers and quality improvement specialists have assumed such responsibilities. Another possibility now in the development stage is emanating from the profession of nursing. Nursing is the epicenter of most patient care delivered in organizations. Representing about 54 percent of all healthcare workers, nurses provide around-the-clock patient care in virtually all healthcare settings, from hospitals to nursing homes (Institute of Medicine 2004). Nurses are critically involved in patient safety as direct participants in the care process and as observers and coordinators of care provided by others. In one study, nurses intercepted 86 percent of all medication errors made by physicians, pharmacists, and others involved in providing medications for patients before the error reached the patient (Leape et al. 1995) . Nurses' locus at the patient bedside gives them a critical role in the prevention of error and promotion of safety.\",\n",
              "    'cite_spans': [{'start': 997,\n",
              "      'end': 1016,\n",
              "      'text': '(Leape et al. 1995)',\n",
              "      'ref_id': 'BIBREF9'}],\n",
              "    'ref_spans': []},\n",
              "   {'section': '',\n",
              "    'text': 'Recognizing the need to more proactively manage patient services across professional boundaries, the nursing profession has embarked on the development of a new nursing role-the clinical nurse leader (CNL). The new proposal is at least provocative and at best transformative. Healthcare administrators need to be aware of this development so that they can contribute to its effective evolution in the best interests of the healthcare organization and patient. In this article, we describe the new role and opportunities to shape it.',\n",
              "    'cite_spans': [],\n",
              "    'ref_spans': []},\n",
              "   {'section': 'THE CLINICAL NURSE LEADER ROLE',\n",
              "    'text': \"Development of the CNL role derives from studies begun in 2000 by the American Association of Colleges of Nursing (AACN). Two AACN task forces were convened to identify (1) how to improve the quality of patient care, and (2) how to best prepare nurses with the competencies needed to thrive in the current and future healthcare system. The CNL role emerged following research and discussion with stakeholders as a way to engage highly skilled clinicians in outcomes-based practice and quality and safety improvement strategies. The issues and challenges needed to be addressed both at the educational level and at the patient care delivery site, requiring new relationships and partnerships to take place between practice and education (AACN 2002; 2003) . The new role of the CNL is the first master's-level role to be added to the profession of nursing in more than 35 years, following the clinical nurse specialist.\",\n",
              "    'cite_spans': [{'start': 748,\n",
              "      'end': 753,\n",
              "      'text': '2003)',\n",
              "      'ref_id': 'BIBREF0'}],\n",
              "    'ref_spans': []},\n",
              "   {'section': 'THE CLINICAL NURSE LEADER ROLE',\n",
              "    'text': 'In early 2004, an implementation task force was created to identify education and practice partners who wanted to create the curriculum for the CNL role and redesign practice sites in which the CNL would function. This task force was chaired by a person (one of the coauthors) whose career had been in the practice arena. Practice and education must be intricately linked to ensure that both are working simultaneously to implement the needed changes. Education and practice partners for the CNL role implementation now total some 84 schools of nursing and 183 practice sites in 35 states and Puerto Rico.',\n",
              "    'cite_spans': [],\n",
              "    'ref_spans': []},\n",
              "   {'section': 'THE CLINICAL NURSE LEADER ROLE',\n",
              "    'text': \"It is expected that the implementation of the CNL role will vary across organizations; therefore, the role definition has not been overly specified. At the same time, standardization is needed so that communication and mobility across work settings and educational programs can occur. As defined by the task force, the CNL is a master's degree-prepared nurse who assumes accountability for healthcare outcomes for a specific group of clients within a patient care unit or setting through the assimilation and application of research-based information to design, implement, and evaluate client plans of care. Among core competencies of the CNL that are expected or emphasized more than in other nursing roles are the ability to (1) communicate and collaborate with other members of the interdisciplinary healthcare team, (2) contribute to the assessment and reduction of risk, (3) manage and coordinate care at the microsystems level, and (4) use quality improvement methods.\",\n",
              "    'cite_spans': [],\n",
              "    'ref_spans': []},\n",
              "   {'section': 'THE CLINICAL NURSE LEADER ROLE',\n",
              "    'text': 'The CNL is a clinical manager of care at the point of care to individuals and cohorts. The CNL acts as the lateral integrator of care by working with physicians and all other disciplines providing patient care services, such as social workers, respiratory therapists, nursing assistants, dietitians, pharmacists, and rehabilitation therapists. In this role the CNL facilitates, coordinates, and oversees the care provided by the entire healthcare team. In a hospital inpatient setting, the CNL would typically report to a nursing unit manager and be responsible for patients in a predetermined number of beds. In that situation, any formal authority of the CNL would be delegated by the unit manager.',\n",
              "    'cite_spans': [],\n",
              "    'ref_spans': []},\n",
              "   {'section': 'THE CLINICAL NURSE LEADER ROLE',\n",
              "    'text': 'The CNL role differs from that of a unit manager. The unit manager oversees the business side of the unit but cannot realistically also function as the person continually overseeing the clinical side of the delivery of care (Tornabeni 2006 based and in a position to see the patient as a whole, recognizing and correcting those gaps in communication, facilitating effective hand-offs, and supporting the creation of systems that eliminate the fragmentation of care. The CNL role becomes the lateral integrator for the patient care unit.',\n",
              "    'cite_spans': [{'start': 224,\n",
              "      'end': 239,\n",
              "      'text': '(Tornabeni 2006',\n",
              "      'ref_id': 'BIBREF12'}],\n",
              "    'ref_spans': []},\n",
              "   {'section': 'THE CLINICAL NURSE LEADER ROLE',\n",
              "    'text': \"The lateral integration of care has been what is missing in the delivery of care to patients with complex needs. There has been no one who oversees patient care laterally and over time and who is able to intervene, facilitate, or coordinate care for the entire patient experience. The CNL will be instrumental in helping all disciplines see the interdependencies that exist between and among them. Case managers are used in many settings to perform some aspects of the lateral integration function, particularly with regard to moving inpatients to the most appropriate level of care as efficiently as possible. Case managers, however, are assigned to individual patients rather than to nursing units, generally deal with a small minority of patients, and do not oversee the delivery of care at the clinical point of care. Another role that addresses some aspects of lateral integration in inpatient facilities is the hospitalist physician. However, the hospitalist, like other physicians, is with the patient for a small proportion of the patient's stay and is focused on the portion of care provided by physicians.\",\n",
              "    'cite_spans': [],\n",
              "    'ref_spans': []},\n",
              "   {'section': 'THE CLINICAL NURSE LEADER ROLE',\n",
              "    'text': 'The CNL role is not restricted to the hospital setting. It is expected that the CNL will fimction across all settings in which healthcare is delivered, not just in the acute care setting. CNLs can function in community health centers, mental health treatment facilities, long-term care facilities, and other settings in which lateral integration will improve patient outcomes.',\n",
              "    'cite_spans': [],\n",
              "    'ref_spans': []},\n",
              "   {'section': 'THE CLINICAL NURSE LEADER ROLE',\n",
              "    'text': 'What makes the CNL movement different from past efforts within nursing? There has been thoughtful and broad engagement in looking at both the educational and competency needs of nursing to function in an environment that has changed dramatically and become extremely complex. This change requires advanced knowledge, new skills, and interdependent relationships. The approach is (1) being advanced as a partnership with education and practice, (2) occurring at a broad national level of activity, (3) being structured with milestones for the partnerships to attain, and (4) being facilitated by nurses and administrators at the highest levels within healthcare organizations. Simultaneous work is going on within the practice and academic sites. A curriculum is being developed to educate CNLs, and each practice site is engaged in redesigning its patient delivery sites where they will function. Additionally, there is engagement of several major nursing organizations: AACN, American Organization of Nurse Executives, and American Nursing Association. The fact that these partners are working together toward the same end is a major accomplishment in itself.',\n",
              "    'cite_spans': [],\n",
              "    'ref_spans': []},\n",
              "   {'section': 'THE CLINICAL NURSE LEADER ROLE',\n",
              "    'text': 'Finally, nursing recognizes the need to involve other stakeholders outside nursing, including the other clinical professions and healthcare administration, in the development of the CNL role. This outreach should be reciprocated and reinforced.',\n",
              "    'cite_spans': [],\n",
              "    'ref_spans': []},\n",
              "   {'section': 'THE CLINICAL NURSE LEADER ROLE',\n",
              "    'text': 'Success requires not just a new nurse plopped into an existing delivery model but rather a new environment in which patient care can thrive. In this sense, the CNL movement will not succeed if it evolves as a nursing project controlled solely by nursing. Redesigning the patient care delivery model and creating a patient-centered, rather than discipline-centered, system requires that all disciplines be at the table.',\n",
              "    'cite_spans': [],\n",
              "    'ref_spans': []},\n",
              "   {'section': 'IMPLICATIONS FOR THE FIELD OF HEALTHCARE AOMINISTRATION',\n",
              "    'text': \"The field of healthcare administration should be involved more aggressively in the evolution of the CNL role. Such involvement is predicated on the assumptions that the administration has responsibility for lateral integration of patient care delivery within the organization, that lateral integration is crucial for quality and safety improvement, and that nurses can play an enhanced and critical role in lateral integration. What can healthcare administrators and educators do to meet these challenges? First, administrators can examine their organizations' current efforts to integrate the patient care experience. Many organizations are already evolving new nursing roles at the local level to address the concerns we have outlined. For example, care models designed by Baptist Hospital of Miami and Inova Health System include patient care facilitator and team coordinator roles that are similar to the CNL role. Patient care facilitators at Baptist Hospital of Miami, for example, are assigned geographically to 12 to 16 beds, and their primary job is to know each of the patients in the area, acting as their patient advocate and facilitator of care (Clark 2004) . The patient care facilitator becomes the one consistent nurse with whom patients and families identify during the course of their stay.\",\n",
              "    'cite_spans': [{'start': 1158,\n",
              "      'end': 1170,\n",
              "      'text': '(Clark 2004)',\n",
              "      'ref_id': 'BIBREF3'}],\n",
              "    'ref_spans': []},\n",
              "   {'section': 'IMPLICATIONS FOR THE FIELD OF HEALTHCARE AOMINISTRATION',\n",
              "    'text': 'Such efforts may or may not morph into the standardized CNL role as they evolve. Importantly, those new roles have demonstrated cost neutrality and, in some cases, cost benefit (Clark 2004; Drenkard and Cohen 2004) . Potential cost savings derive from transitioning some staff out of the clinical care coordinator role, improved retention and recruitment of nursing staff, enhanced communication, promotion of patient safety, and better outcomes for patients.',\n",
              "    'cite_spans': [{'start': 177,\n",
              "      'end': 189,\n",
              "      'text': '(Clark 2004;',\n",
              "      'ref_id': 'BIBREF3'},\n",
              "     {'start': 190,\n",
              "      'end': 214,\n",
              "      'text': 'Drenkard and Cohen 2004)',\n",
              "      'ref_id': 'BIBREF4'}],\n",
              "    'ref_spans': []},\n",
              "   {'section': 'IMPLICATIONS FOR THE FIELD OF HEALTHCARE AOMINISTRATION',\n",
              "    'text': 'Second, there is a need for widespread education about this new role. The AACN web site (www.aacn.nche .edu/CNL) contains a host of resources. Administrators can support the education of nurses and other workers through conference attendance and other means. Administrators can become part of the team managing the evolution of this role in their own facilities. Historically, each of the clinical health professions has evolved its own internal roles. Healthcare organizations and healthcare administrators have had a hands-off posture toward internal professional developments. As healthcare delivery becomes more interdependent among types of professionals, healthcare administrators can more . aggressively contribute to the evolution of those professions in their role as lateral integrators. Similarly, healthcare administration educators should expose students to these and other contemporary developments in nursing (as well as other clinical professions) to model interdisciplinary practice for them.',\n",
              "    'cite_spans': [],\n",
              "    'ref_spans': []},\n",
              "   {'section': 'IMPLICATIONS FOR THE FIELD OF HEALTHCARE AOMINISTRATION',\n",
              "    'text': 'Third, healthcare administrators and researchers can ask important and difficult questions about the new role and its rationale. They can help ensure that the role is not evolved without significant input from administrators. If the difficult questions are not addressed in the development stage, a role that excites nursing could face stiff opposition when rolled out to administration, engendering adversarial relationships. Among the questions to which administrators can call attention are the following: What are the key reasons sentinel events have happened in the organization, and how will the CNL role help prevent them? What are the organizational costs (time and money) of those sentinel events, and what impact will the CNL role have on those costs? How can the CNL role reduce the silos within the organization? How can other roles be redefined to ensure that the CNL is not just another add-on role and management layer? In particular, can some of the work currently performed by case managers and quality improvement specialists be facilitated or performed by CNLs? How will the CNL role be evaluated? Asking the tough questions now will enable the role to unfold in a more effective way in the long term. Healthcare researchers have an opportunity to evaluate the impact of the new role on costs, organizational culture, nurse satisfaction, and patient outcomes.',\n",
              "    'cite_spans': [],\n",
              "    'ref_spans': []},\n",
              "   {'section': 'IMPLICATIONS FOR THE FIELD OF HEALTHCARE AOMINISTRATION',\n",
              "    'text': 'Fourth, healthcare administrators should consider championing the CNL role as a new approach to coordinating and integrating care for improved patient quality and safety. What administrators talk about and support visibly contributes to an organizational culture (Lambert 2004) . If administrators are enthusiastic and supportive of the CNL role, others in the organization see that resources are being directed to new ways of solving old problems. Leading hospitals have a focus on all employees, with an emphasis on leadership development, staff learning, and motivation (Criffith and White 2005) . This is an opportunity to demonstrate a focus on the largest category of healthcare employees.',\n",
              "    'cite_spans': [{'start': 263,\n",
              "      'end': 277,\n",
              "      'text': '(Lambert 2004)',\n",
              "      'ref_id': 'BIBREF8'},\n",
              "     {'start': 573,\n",
              "      'end': 598,\n",
              "      'text': '(Criffith and White 2005)',\n",
              "      'ref_id': 'BIBREF5'}],\n",
              "    'ref_spans': []},\n",
              "   {'section': 'IMPLICATIONS FOR THE FIELD OF HEALTHCARE AOMINISTRATION',\n",
              "    'text': \"Fifth, in addition to significantly affecting quality improvement and prevention of errors, the CNL role will help attract a new generation of leaders into nursing and make nursing a stronger profession. For the individual healthcare facility, the role can be used to symbolize the organization's commitment to nursing and patient care in the same way magnet hospital recognition is used (American Nurses Credentialing Center 2005) . This will improve the organization's ability to recruit and retain nurses.\",\n",
              "    'cite_spans': [{'start': 388,\n",
              "      'end': 431,\n",
              "      'text': '(American Nurses Credentialing Center 2005)',\n",
              "      'ref_id': 'BIBREF2'}],\n",
              "    'ref_spans': []},\n",
              "   {'section': 'IMPLICATIONS FOR THE FIELD OF HEALTHCARE AOMINISTRATION',\n",
              "    'text': 'The new CNL role is not a panacea for the problem of lateral integration. Challenges resulting from power differentials and cultural differences among the health disciplines are deeply ingrained. Care for complex illnesses is fragmented across different facilities in different locations with different payers. The CNL, working at the clinical delivery level in one facility, will not be able to address all of these coordination issues. Working out the details of CNL implementation so that the role best meets the needs of patients in a cost-effective manner will not be easy. However, the potential for patient-centered change at the intersection of nursing and administration certainly will not be realized unless supported from the highest leadership levels of the organization. We urge healthcare administrators, educators, and researchers to join in inspiring and shaping the new interdisciplinary workforce so critically needed.',\n",
              "    'cite_spans': [],\n",
              "    'ref_spans': []}],\n",
              "  'bib_entries': {'BIBREF0': {'title': 'Report of the Task Force on Education and Regulation for Professional Nursing Practice',\n",
              "    'authors': [],\n",
              "    'year': 2002,\n",
              "    'venue': '',\n",
              "    'link': None},\n",
              "   'BIBREF1': {'title': 'Chart 3.5: Average Length of Stay in Community Hospitals',\n",
              "    'authors': [],\n",
              "    'year': 1980,\n",
              "    'venue': '',\n",
              "    'link': None},\n",
              "   'BIBREF2': {'title': 'ANCC Magnet Recognition Program',\n",
              "    'authors': [{'first': 'American',\n",
              "      'middle': [],\n",
              "      'last': 'Nurses',\n",
              "      'suffix': ''},\n",
              "     {'first': 'Credentialing', 'middle': [], 'last': 'Center', 'suffix': ''}],\n",
              "    'year': 2005,\n",
              "    'venue': '',\n",
              "    'link': None},\n",
              "   'BIBREF3': {'title': 'An Aging Population with Chronic Disease Compels New Delivery Systems Focused on New Structures and Practices',\n",
              "    'authors': [{'first': 'J',\n",
              "      'middle': ['C'],\n",
              "      'last': 'Clark',\n",
              "      'suffix': ''}],\n",
              "    'year': 2004,\n",
              "    'venue': 'Nursing Administration Quarterly',\n",
              "    'link': '39725399'},\n",
              "   'BIBREF4': {'title': 'Clinical Nurse Leader: Moving Toward the Future',\n",
              "    'authors': [{'first': 'K', 'middle': [], 'last': 'Drenkard', 'suffix': ''},\n",
              "     {'first': 'E', 'middle': [], 'last': 'Cohen', 'suffix': ''}],\n",
              "    'year': 2004,\n",
              "    'venue': 'loumal of Nursing Administration',\n",
              "    'link': '2521394'},\n",
              "   'BIBREF5': {'title': 'The Revolution in Hospital Management',\n",
              "    'authors': [{'first': 'J',\n",
              "      'middle': ['R'],\n",
              "      'last': 'Criffith',\n",
              "      'suffix': ''},\n",
              "     {'first': 'K', 'middle': ['R'], 'last': 'White', 'suffix': ''}],\n",
              "    'year': 2005,\n",
              "    'venue': 'Joumal of Healthcare Management',\n",
              "    'link': '42333860'},\n",
              "   'BIBREF6': {'title': 'Keeping Patients Safe: Transforming the Work Environment of Nurses',\n",
              "    'authors': [],\n",
              "    'year': 2004,\n",
              "    'venue': '',\n",
              "    'link': '70355027'},\n",
              "   'BIBREF7': {'title': 'To Err Is Human: Building a Safer Health System',\n",
              "    'authors': [{'first': 'L', 'middle': [], 'last': 'Kohn', 'suffix': ''},\n",
              "     {'first': 'M', 'middle': ['S'], 'last': 'Corrigan', 'suffix': ''},\n",
              "     {'first': '', 'middle': [], 'last': 'Donaldson', 'suffix': ''}],\n",
              "    'year': 2000,\n",
              "    'venue': '',\n",
              "    'link': '22642408'},\n",
              "   'BIBREF8': {'title': 'Leading a Patient-Safe Organization',\n",
              "    'authors': [{'first': 'M',\n",
              "      'middle': [']'],\n",
              "      'last': 'Lambert',\n",
              "      'suffix': ''},\n",
              "     {'first': '', 'middle': [], 'last': 'Ill', 'suffix': ''}],\n",
              "    'year': 2004,\n",
              "    'venue': '',\n",
              "    'link': None},\n",
              "   'BIBREF9': {'title': 'Systems Analysis of Adverse Drug Events',\n",
              "    'authors': [{'first': 'L', 'middle': [], 'last': 'Leape', 'suffix': ''},\n",
              "     {'first': 'D', 'middle': [], 'last': 'Bates', 'suffix': ''},\n",
              "     {'first': 'D', 'middle': [], 'last': 'Cullen', 'suffix': ''},\n",
              "     {'first': 'H', 'middle': [], 'last': 'Cooper', 'suffix': ''},\n",
              "     {'first': 'T', 'middle': [], 'last': 'Demonaco', 'suffix': ''},\n",
              "     {'first': 'R', 'middle': [], 'last': 'Callivan', 'suffix': ''},\n",
              "     {'first': 'J', 'middle': [], 'last': 'Hallisey', 'suffix': ''},\n",
              "     {'first': 'N', 'middle': [], 'last': 'Ives', 'suffix': ''},\n",
              "     {'first': 'C', 'middle': [], 'last': 'Laird', 'suffix': ''},\n",
              "     {'first': 'R', 'middle': [], 'last': 'Laffel', 'suffix': ''},\n",
              "     {'first': 'L', 'middle': [], 'last': 'Nemeskal', 'suffix': ''},\n",
              "     {'first': 'K', 'middle': [], 'last': 'Petersen', 'suffix': ''},\n",
              "     {'first': 'D', 'middle': [], 'last': 'Porter', 'suffix': ''},\n",
              "     {'first': 'B', 'middle': [], 'last': 'Servi', 'suffix': ''},\n",
              "     {'first': 'S', 'middle': [], 'last': 'Shea', 'suffix': ''},\n",
              "     {'first': 'B', 'middle': [], 'last': 'Small', 'suffix': ''},\n",
              "     {'first': 'B', 'middle': [], 'last': 'Sweitzer', 'suffix': ''},\n",
              "     {'first': 'M', 'middle': [], 'last': 'Thompson', 'suffix': ''},\n",
              "     {'first': '', 'middle': [], 'last': 'Vander', 'suffix': ''},\n",
              "     {'first': '', 'middle': [], 'last': 'Vleit', 'suffix': ''}],\n",
              "    'year': 1995,\n",
              "    'venue': 'Joumal of the American Medical Association',\n",
              "    'link': None},\n",
              "   'BIBREF10': {'title': 'Five Years After To Err Is Human',\n",
              "    'authors': [{'first': 'L', 'middle': [], 'last': 'Leape', 'suffix': ''},\n",
              "     {'first': 'D', 'middle': ['M'], 'last': 'Berwick', 'suffix': ''}],\n",
              "    'year': 2005,\n",
              "    'venue': 'Joumal of the American Medical Association',\n",
              "    'link': '78697578'},\n",
              "   'BIBREF11': {'title': 'Fixing Health Care from the Inside, Today',\n",
              "    'authors': [{'first': 'S',\n",
              "      'middle': ['J'],\n",
              "      'last': 'Spear',\n",
              "      'suffix': ''}],\n",
              "    'year': 2005,\n",
              "    'venue': 'Harvard Business Review',\n",
              "    'link': '13026035'},\n",
              "   'BIBREF12': {'title': 'The Evolution of a Revolution in Nursing',\n",
              "    'authors': [{'first': '',\n",
              "      'middle': [],\n",
              "      'last': 'Tornabeni',\n",
              "      'suffix': ''}],\n",
              "    'year': 2006,\n",
              "    'venue': 'Joumal of Nursing Administration',\n",
              "    'link': '2709792'}},\n",
              "  'ref_entries': {'TABREF0': {'text': '). The CNL is unit louRNAL OF HEALTHCARE MANAGEMENT 51:1 JANUARY/FEBRUARY 2006',\n",
              "    'type': 'table'}}}]"
            ]
          },
          "metadata": {},
          "execution_count": 9
        }
      ]
    },
    {
      "cell_type": "code",
      "source": [
        "doc_level_ann = {\n",
        "    \"paper_id\" : \"\",\n",
        "    \"body_text\":[{\"section\":[{\"sentence\": \"\", \"method\": \" \"}]}],\n",
        "    \"abstract\":[{\"section\":[{\"sentence\": \"\", \"method\": \" \"}]}],\n",
        "    \"year\" : \"\",\n",
        "}\n",
        "#method --> Union [papers_with_code[\"methods\"], s2orc_metadata[\"mag_field_of_study\"]]"
      ],
      "metadata": {
        "id": "2i5KU4K5Zrw_"
      },
      "execution_count": null,
      "outputs": []
    },
    {
      "cell_type": "code",
      "source": [
        "import json\n",
        "doc_level_ann = {\n",
        "    \"paper_id\" : \"\",\n",
        "    \"body_text\":[{\"section\":[{\"sentence\": \"\", \"method\": \" \"}]}],\n",
        "    \"abstract\":[{\"section\":[{\"sentence\": \"\", \"method\": \" \"}]}],\n",
        "    \"year\" : \"\",\n",
        "}\n",
        "g = open(\"/content/drive/MyDrive/method_list.json\")\n",
        "list2 = json.load(g)\n",
        "g.close()\n",
        "\n",
        "f =open(\"/content/drive/MyDrive/papers-with-abstracts.json\")\n",
        "list1 = json.load(f)\n",
        "f.close()"
      ],
      "metadata": {
        "id": "m_AVjHLw1ePo"
      },
      "execution_count": 11,
      "outputs": []
    },
    {
      "cell_type": "code",
      "source": [],
      "metadata": {
        "id": "POQbiiz21gBL"
      },
      "execution_count": null,
      "outputs": []
    }
  ]
}